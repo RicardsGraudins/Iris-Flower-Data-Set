{
 "cells": [
  {
   "cell_type": "markdown",
   "metadata": {},
   "source": [
    "# Iris Flower Data Set"
   ]
  },
  {
   "cell_type": "markdown",
   "metadata": {},
   "source": [
    "This notebook contains solutions to the jupyter, pyplot and numpy problem sheet completed as part of my course work for the module Emerging Technologies, for further documentation refer to the following link: https://github.com/RicardsGraudins/Iris-Flower-Data-Set"
   ]
  },
  {
   "cell_type": "markdown",
   "metadata": {},
   "source": [
    "## *Exercises:*"
   ]
  },
  {
   "cell_type": "markdown",
   "metadata": {},
   "source": [
    "## 01. Get and load the data\n",
    "ref. https://stackoverflow.com/questions/25614749/how-to-import-csv-file-as-numpy-array-in-python  \n",
    "ref. https://docs.scipy.org/doc/numpy-1.13.0/reference/generated/numpy.genfromtxt.html  \n",
    "ref. https://pyformat.info/"
   ]
  },
  {
   "cell_type": "code",
   "execution_count": 2,
   "metadata": {
    "scrolled": false
   },
   "outputs": [
    {
     "name": "stdout",
     "output_type": "stream",
     "text": [
      "5.1 3.5 1.4 0.2 Iris-setosa\n",
      "4.9 3.0 1.4 0.2 Iris-setosa\n",
      "4.7 3.2 1.3 0.2 Iris-setosa\n",
      "4.6 3.1 1.5 0.2 Iris-setosa\n",
      "5.0 3.6 1.4 0.2 Iris-setosa\n",
      "5.4 3.9 1.7 0.4 Iris-setosa\n",
      "4.6 3.4 1.4 0.3 Iris-setosa\n",
      "5.0 3.4 1.5 0.2 Iris-setosa\n",
      "4.4 2.9 1.4 0.2 Iris-setosa\n",
      "4.9 3.1 1.5 0.1 Iris-setosa\n",
      "5.4 3.7 1.5 0.2 Iris-setosa\n",
      "4.8 3.4 1.6 0.2 Iris-setosa\n",
      "4.8 3.0 1.4 0.1 Iris-setosa\n",
      "4.3 3.0 1.1 0.1 Iris-setosa\n",
      "5.8 4.0 1.2 0.2 Iris-setosa\n",
      "5.7 4.4 1.5 0.4 Iris-setosa\n",
      "5.4 3.9 1.3 0.4 Iris-setosa\n",
      "5.1 3.5 1.4 0.3 Iris-setosa\n",
      "5.7 3.8 1.7 0.3 Iris-setosa\n",
      "5.1 3.8 1.5 0.3 Iris-setosa\n",
      "5.4 3.4 1.7 0.2 Iris-setosa\n",
      "5.1 3.7 1.5 0.4 Iris-setosa\n",
      "4.6 3.6 1.0 0.2 Iris-setosa\n",
      "5.1 3.3 1.7 0.5 Iris-setosa\n",
      "4.8 3.4 1.9 0.2 Iris-setosa\n",
      "5.0 3.0 1.6 0.2 Iris-setosa\n",
      "5.0 3.4 1.6 0.4 Iris-setosa\n",
      "5.2 3.5 1.5 0.2 Iris-setosa\n",
      "5.2 3.4 1.4 0.2 Iris-setosa\n",
      "4.7 3.2 1.6 0.2 Iris-setosa\n",
      "4.8 3.1 1.6 0.2 Iris-setosa\n",
      "5.4 3.4 1.5 0.4 Iris-setosa\n",
      "5.2 4.1 1.5 0.1 Iris-setosa\n",
      "5.5 4.2 1.4 0.2 Iris-setosa\n",
      "4.9 3.1 1.5 0.1 Iris-setosa\n",
      "5.0 3.2 1.2 0.2 Iris-setosa\n",
      "5.5 3.5 1.3 0.2 Iris-setosa\n",
      "4.9 3.1 1.5 0.1 Iris-setosa\n",
      "4.4 3.0 1.3 0.2 Iris-setosa\n",
      "5.1 3.4 1.5 0.2 Iris-setosa\n",
      "5.0 3.5 1.3 0.3 Iris-setosa\n",
      "4.5 2.3 1.3 0.3 Iris-setosa\n",
      "4.4 3.2 1.3 0.2 Iris-setosa\n",
      "5.0 3.5 1.6 0.6 Iris-setosa\n",
      "5.1 3.8 1.9 0.4 Iris-setosa\n",
      "4.8 3.0 1.4 0.3 Iris-setosa\n",
      "5.1 3.8 1.6 0.2 Iris-setosa\n",
      "4.6 3.2 1.4 0.2 Iris-setosa\n",
      "5.3 3.7 1.5 0.2 Iris-setosa\n",
      "5.0 3.3 1.4 0.2 Iris-setosa\n",
      "7.0 3.2 4.7 1.4 Iris-versicolor\n",
      "6.4 3.2 4.5 1.5 Iris-versicolor\n",
      "6.9 3.1 4.9 1.5 Iris-versicolor\n",
      "5.5 2.3 4.0 1.3 Iris-versicolor\n",
      "6.5 2.8 4.6 1.5 Iris-versicolor\n",
      "5.7 2.8 4.5 1.3 Iris-versicolor\n",
      "6.3 3.3 4.7 1.6 Iris-versicolor\n",
      "4.9 2.4 3.3 1.0 Iris-versicolor\n",
      "6.6 2.9 4.6 1.3 Iris-versicolor\n",
      "5.2 2.7 3.9 1.4 Iris-versicolor\n",
      "5.0 2.0 3.5 1.0 Iris-versicolor\n",
      "5.9 3.0 4.2 1.5 Iris-versicolor\n",
      "6.0 2.2 4.0 1.0 Iris-versicolor\n",
      "6.1 2.9 4.7 1.4 Iris-versicolor\n",
      "5.6 2.9 3.6 1.3 Iris-versicolor\n",
      "6.7 3.1 4.4 1.4 Iris-versicolor\n",
      "5.6 3.0 4.5 1.5 Iris-versicolor\n",
      "5.8 2.7 4.1 1.0 Iris-versicolor\n",
      "6.2 2.2 4.5 1.5 Iris-versicolor\n",
      "5.6 2.5 3.9 1.1 Iris-versicolor\n",
      "5.9 3.2 4.8 1.8 Iris-versicolor\n",
      "6.1 2.8 4.0 1.3 Iris-versicolor\n",
      "6.3 2.5 4.9 1.5 Iris-versicolor\n",
      "6.1 2.8 4.7 1.2 Iris-versicolor\n",
      "6.4 2.9 4.3 1.3 Iris-versicolor\n",
      "6.6 3.0 4.4 1.4 Iris-versicolor\n",
      "6.8 2.8 4.8 1.4 Iris-versicolor\n",
      "6.7 3.0 5.0 1.7 Iris-versicolor\n",
      "6.0 2.9 4.5 1.5 Iris-versicolor\n",
      "5.7 2.6 3.5 1.0 Iris-versicolor\n",
      "5.5 2.4 3.8 1.1 Iris-versicolor\n",
      "5.5 2.4 3.7 1.0 Iris-versicolor\n",
      "5.8 2.7 3.9 1.2 Iris-versicolor\n",
      "6.0 2.7 5.1 1.6 Iris-versicolor\n",
      "5.4 3.0 4.5 1.5 Iris-versicolor\n",
      "6.0 3.4 4.5 1.6 Iris-versicolor\n",
      "6.7 3.1 4.7 1.5 Iris-versicolor\n",
      "6.3 2.3 4.4 1.3 Iris-versicolor\n",
      "5.6 3.0 4.1 1.3 Iris-versicolor\n",
      "5.5 2.5 4.0 1.3 Iris-versicolor\n",
      "5.5 2.6 4.4 1.2 Iris-versicolor\n",
      "6.1 3.0 4.6 1.4 Iris-versicolor\n",
      "5.8 2.6 4.0 1.2 Iris-versicolor\n",
      "5.0 2.3 3.3 1.0 Iris-versicolor\n",
      "5.6 2.7 4.2 1.3 Iris-versicolor\n",
      "5.7 3.0 4.2 1.2 Iris-versicolor\n",
      "5.7 2.9 4.2 1.3 Iris-versicolor\n",
      "6.2 2.9 4.3 1.3 Iris-versicolor\n",
      "5.1 2.5 3.0 1.1 Iris-versicolor\n",
      "5.7 2.8 4.1 1.3 Iris-versicolor\n",
      "6.3 3.3 6.0 2.5 Iris-virginica\n",
      "5.8 2.7 5.1 1.9 Iris-virginica\n",
      "7.1 3.0 5.9 2.1 Iris-virginica\n",
      "6.3 2.9 5.6 1.8 Iris-virginica\n",
      "6.5 3.0 5.8 2.2 Iris-virginica\n",
      "7.6 3.0 6.6 2.1 Iris-virginica\n",
      "4.9 2.5 4.5 1.7 Iris-virginica\n",
      "7.3 2.9 6.3 1.8 Iris-virginica\n",
      "6.7 2.5 5.8 1.8 Iris-virginica\n",
      "7.2 3.6 6.1 2.5 Iris-virginica\n",
      "6.5 3.2 5.1 2.0 Iris-virginica\n",
      "6.4 2.7 5.3 1.9 Iris-virginica\n",
      "6.8 3.0 5.5 2.1 Iris-virginica\n",
      "5.7 2.5 5.0 2.0 Iris-virginica\n",
      "5.8 2.8 5.1 2.4 Iris-virginica\n",
      "6.4 3.2 5.3 2.3 Iris-virginica\n",
      "6.5 3.0 5.5 1.8 Iris-virginica\n",
      "7.7 3.8 6.7 2.2 Iris-virginica\n",
      "7.7 2.6 6.9 2.3 Iris-virginica\n",
      "6.0 2.2 5.0 1.5 Iris-virginica\n",
      "6.9 3.2 5.7 2.3 Iris-virginica\n",
      "5.6 2.8 4.9 2.0 Iris-virginica\n",
      "7.7 2.8 6.7 2.0 Iris-virginica\n",
      "6.3 2.7 4.9 1.8 Iris-virginica\n",
      "6.7 3.3 5.7 2.1 Iris-virginica\n",
      "7.2 3.2 6.0 1.8 Iris-virginica\n",
      "6.2 2.8 4.8 1.8 Iris-virginica\n",
      "6.1 3.0 4.9 1.8 Iris-virginica\n",
      "6.4 2.8 5.6 2.1 Iris-virginica\n",
      "7.2 3.0 5.8 1.6 Iris-virginica\n",
      "7.4 2.8 6.1 1.9 Iris-virginica\n",
      "7.9 3.8 6.4 2.0 Iris-virginica\n",
      "6.4 2.8 5.6 2.2 Iris-virginica\n",
      "6.3 2.8 5.1 1.5 Iris-virginica\n",
      "6.1 2.6 5.6 1.4 Iris-virginica\n",
      "7.7 3.0 6.1 2.3 Iris-virginica\n",
      "6.3 3.4 5.6 2.4 Iris-virginica\n",
      "6.4 3.1 5.5 1.8 Iris-virginica\n",
      "6.0 3.0 4.8 1.8 Iris-virginica\n",
      "6.9 3.1 5.4 2.1 Iris-virginica\n",
      "6.7 3.1 5.6 2.4 Iris-virginica\n",
      "6.9 3.1 5.1 2.3 Iris-virginica\n",
      "5.8 2.7 5.1 1.9 Iris-virginica\n",
      "6.8 3.2 5.9 2.3 Iris-virginica\n",
      "6.7 3.3 5.7 2.5 Iris-virginica\n",
      "6.7 3.0 5.2 2.3 Iris-virginica\n",
      "6.3 2.5 5.0 1.9 Iris-virginica\n",
      "6.5 3.0 5.2 2.0 Iris-virginica\n",
      "6.2 3.4 5.4 2.3 Iris-virginica\n",
      "5.9 3.0 5.1 1.8 Iris-virginica\n"
     ]
    }
   ],
   "source": [
    "import numpy as np\n",
    "\n",
    "#sorting the data into 5 arrays\n",
    "sepalLength, sepalWidth, petalLength, petalWidth = np.genfromtxt('data.csv', delimiter=',', usecols=(0, 1, 2, 3), unpack=True, dtype=float)\n",
    "classification = np.genfromtxt('data.csv', delimiter=',', usecols=(4), unpack=True, dtype=str)\n",
    "#can print out array content individually or all at once using .format\n",
    "#print(sepalLength)\n",
    "#print(sepalWidth)\n",
    "#print(petalLength)\n",
    "#print(petalWidth)\n",
    "#print(classification)\n",
    "for i in range(len(sepalLength)):\n",
    "    print('{0:.1f} {1:.1f} {2:.1f} {3:.1f} {4:s}'.format(sepalLength[i], sepalWidth[i], petalLength[i], petalWidth[i], classification[i]))"
   ]
  },
  {
   "cell_type": "markdown",
   "metadata": {},
   "source": [
    "# 02. Write a note about the data set\n",
    "The Iris flower data set was introduced by the British statistician and biologist [Ronald Fisher](https://en.wikipedia.org/wiki/Ronald_Fisher) in 1936 as an example of [linear discriminant analysis](https://en.wikipedia.org/wiki/Linear_discriminant_analysis). The data set contains 50 samples from each of three species of Iris(Iris setosa, Iris, virginica and Iris versicolor). Four features were measured from each sample: the length and the width of the sepals and petals in centimeters. Based on the combination of these four features, Fisher developed a linear discriminant model to distinguish the species from each other.\n",
    "\n",
    "ref. https://en.wikipedia.org/wiki/Iris_flower_data_set"
   ]
  },
  {
   "cell_type": "markdown",
   "metadata": {},
   "source": [
    "# 03. Create a simple plot  \n",
    "ref. https://matplotlib.org/users/pyplot_tutorial.html"
   ]
  },
  {
   "cell_type": "code",
   "execution_count": 8,
   "metadata": {},
   "outputs": [
    {
     "data": {
      "image/png": "[encoded data removed]",
      "text/plain": [
       "<matplotlib.figure.Figure at 0x219e7a36e10>"
      ]
     },
     "metadata": {},
     "output_type": "display_data"
    }
   ],
   "source": [
    "import matplotlib.pyplot as pl\n",
    "\n",
    "pl.rcParams['figure.figsize'] = (16, 8)\n",
    "pl.scatter(sepalLength, sepalWidth, marker='.')\n",
    "\n",
    "pl.title('Scatter diagram representing sepal width and sepal length', fontsize=20)\n",
    "pl.xlabel(' <- Sepal Length ->', fontsize=12)\n",
    "pl.ylabel('<- Sepal Width ->', fontsize=12)\n",
    "\n",
    "pl.show()"
   ]
  }
 ],
 "metadata": {
  "kernelspec": {
   "display_name": "Python 3",
   "language": "python",
   "name": "python3"
  },
  "language_info": {
   "codemirror_mode": {
    "name": "ipython",
    "version": 3
   },
   "file_extension": ".py",
   "mimetype": "text/x-python",
   "name": "python",
   "nbconvert_exporter": "python",
   "pygments_lexer": "ipython3",
   "version": "3.6.1"
  }
 },
 "nbformat": 4,
 "nbformat_minor": 2
}
